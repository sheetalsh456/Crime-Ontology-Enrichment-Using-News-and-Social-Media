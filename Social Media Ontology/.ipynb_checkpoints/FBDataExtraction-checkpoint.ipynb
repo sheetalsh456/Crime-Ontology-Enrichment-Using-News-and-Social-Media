{
 "cells": [
  {
   "cell_type": "code",
   "execution_count": 42,
   "metadata": {},
   "outputs": [],
   "source": [
    "import facebook\n",
    "from nltk import *\n",
    "from nltk.corpus import stopwords"
   ]
  },
  {
   "cell_type": "code",
   "execution_count": 43,
   "metadata": {},
   "outputs": [],
   "source": [
    "token = 'EAAOp2L2sihQBALaZCvQZALwhPGCzJsmZCGRbovgTfpvLntXaqp1h0vmBXvEPhwAJ3x26VxVrYSoiOS5zXegZBonMHwVpqGdkSAC9BNOStZAB9gxVmeHQoWF13TpXjnOs8o35CMHNxu7WhIX19G0AgWw9WVZBd97QjZAys5cbtLQTgZDZD'"
   ]
  },
  {
   "cell_type": "code",
   "execution_count": 44,
   "metadata": {},
   "outputs": [],
   "source": [
    "graph = facebook.GraphAPI(access_token=token)"
   ]
  },
  {
   "cell_type": "code",
   "execution_count": 45,
   "metadata": {},
   "outputs": [],
   "source": [
    "def get_continuous_chunks(text):\n",
    "    chunked = ne_chunk(pos_tag(word_tokenize(text)))\n",
    "    prev = None\n",
    "    continuous_chunk = []\n",
    "    current_chunk = []\n",
    "    for i in chunked:\n",
    "            if type(i) == Tree:\n",
    "                current_chunk.append(i.label()[:3] + \"-\")\n",
    "                current_chunk.append(\" \".join([token for token, pos in i.leaves()]))\n",
    "            elif current_chunk:\n",
    "                named_entity = \" \".join(current_chunk)\n",
    "                if named_entity not in continuous_chunk:\n",
    "                    continuous_chunk.append(named_entity)\n",
    "                    current_chunk = []\n",
    "            else:\n",
    "                continue\n",
    "    return continuous_chunk"
   ]
  },
  {
   "cell_type": "code",
   "execution_count": 46,
   "metadata": {},
   "outputs": [],
   "source": [
    "def get_relation_tuples(sentences, image):\n",
    "    relation_tuples = []\n",
    "    for sentence in sentences:\n",
    "        rel_tuple_single = []\n",
    "        rel_tuple_single = get_continuous_chunks(sentence)\n",
    "        #print(rel_tuple_single)\n",
    "\n",
    "        if len(rel_tuple_single):\n",
    "            tokens = word_tokenize(sentence)\n",
    "            tagged = pos_tag(tokens)\n",
    "\n",
    "        #extract named entities\n",
    "        entities = chunk.ne_chunk(tagged)\n",
    "        #print entities\n",
    "        for entity in entities:\n",
    "\n",
    "            if len(entity)>1 and (entity[1] == 'VB' or entity[1] == 'VBD' or entity[1] == 'VBN' or entity[1] == 'VM'):\n",
    "                if entity[0] not in stopwords.words('english'):\n",
    "                    rel_tuple_single.append('REL-'+entity[0])\n",
    "        rel_tuple_single.append('IMG-'+image)\n",
    "\n",
    "        #print entity\n",
    "        if len(rel_tuple_single):\n",
    "            relation_tuples.append(rel_tuple_single)\n",
    "\n",
    "    with open(\"input.txt\", \"a\") as myfile:\n",
    "        myfile.write(str(relation_tuples)+'\\n')"
   ]
  },
  {
   "cell_type": "code",
   "execution_count": 47,
   "metadata": {},
   "outputs": [],
   "source": [
    "pages = {'TimesofIndia', 'TOIIndianews', 'ManayunkTrueCrimeBookClub', 'crimefeed', 'crimetoday.tv'}\n",
    "for page in pages :\n",
    "    profile = graph.get_object(page)\n",
    "    posts = graph.get_connections(profile['id'], 'posts')\n",
    "    for post in posts['data']:\n",
    "        post_image = graph.get_object(id = post['id'], fields = 'full_picture, message')\n",
    "        if 'message' in post_image:\n",
    "            try:\n",
    "                get_relation_tuples(sent_tokenize(post_image['message']), post_image['full_picture'])\n",
    "            except:\n",
    "                i = 1\n",
    "#             print(post_image['message'])\n",
    "#             print(post_image['full_picture'])\n",
    "#             print('\\n--------\\n')"
   ]
  },
  {
   "cell_type": "code",
   "execution_count": null,
   "metadata": {},
   "outputs": [],
   "source": []
  }
 ],
 "metadata": {
  "kernelspec": {
   "display_name": "Python 3",
   "language": "python",
   "name": "python3"
  },
  "language_info": {
   "codemirror_mode": {
    "name": "ipython",
    "version": 3
   },
   "file_extension": ".py",
   "mimetype": "text/x-python",
   "name": "python",
   "nbconvert_exporter": "python",
   "pygments_lexer": "ipython3",
   "version": "3.5.2"
  }
 },
 "nbformat": 4,
 "nbformat_minor": 2
}
