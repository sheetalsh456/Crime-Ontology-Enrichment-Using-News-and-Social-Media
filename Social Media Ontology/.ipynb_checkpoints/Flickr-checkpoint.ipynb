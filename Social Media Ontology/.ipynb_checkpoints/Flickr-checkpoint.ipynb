{
 "cells": [
  {
   "cell_type": "code",
   "execution_count": 1,
   "metadata": {},
   "outputs": [],
   "source": [
    "import flickrapi\n",
    "from nltk import *\n",
    "from nltk.corpus import stopwords\n",
    "import ast"
   ]
  },
  {
   "cell_type": "code",
   "execution_count": 2,
   "metadata": {},
   "outputs": [],
   "source": [
    "api_key = u'c0fbe33d0663c2a99981d03c9d21d9a1'\n",
    "api_secret = u'8c76a2ad387c546e'\n",
    "\n",
    "flickr = flickrapi.FlickrAPI(api_key, api_secret, format='json')"
   ]
  },
  {
   "cell_type": "code",
   "execution_count": 3,
   "metadata": {},
   "outputs": [],
   "source": [
    "def get_continuous_chunks(text):\n",
    "    chunked = ne_chunk(pos_tag(word_tokenize(text)))\n",
    "    prev = None\n",
    "    continuous_chunk = []\n",
    "    current_chunk = []\n",
    "    for i in chunked:\n",
    "            if type(i) == Tree:\n",
    "                current_chunk.append(i.label()[:3] + \"-\")\n",
    "                current_chunk.append(\" \".join([token for token, pos in i.leaves()]))\n",
    "            elif current_chunk:\n",
    "                named_entity = \" \".join(current_chunk)\n",
    "                if named_entity not in continuous_chunk:\n",
    "                    continuous_chunk.append(named_entity)\n",
    "                    current_chunk = []\n",
    "            else:\n",
    "                continue\n",
    "    return continuous_chunk"
   ]
  },
  {
   "cell_type": "code",
   "execution_count": 4,
   "metadata": {},
   "outputs": [],
   "source": [
    "def get_relation_tuples(sentences, image):\n",
    "    relation_tuples = []\n",
    "    for sentence in sentences:\n",
    "        rel_tuple_single = []\n",
    "        rel_tuple_single = get_continuous_chunks(sentence)\n",
    "        #print(rel_tuple_single)\n",
    "\n",
    "        if len(rel_tuple_single):\n",
    "            tokens = word_tokenize(sentence)\n",
    "            tagged = pos_tag(tokens)\n",
    "\n",
    "        #extract named entities\n",
    "        entities = chunk.ne_chunk(tagged)\n",
    "        #print entities\n",
    "        for entity in entities:\n",
    "\n",
    "            if len(entity)>1 and (entity[1] == 'VB' or entity[1] == 'VBD' or entity[1] == 'VBN' or entity[1] == 'VM'):\n",
    "                if entity[0] not in stopwords.words('english'):\n",
    "                    rel_tuple_single.append('REL-'+entity[0])\n",
    "        rel_tuple_single.append('IMG-'+image)\n",
    "\n",
    "        #print entity\n",
    "        if len(rel_tuple_single):\n",
    "            relation_tuples.append(rel_tuple_single)\n",
    "\n",
    "    with open(\"input.txt\", \"a\") as myfile:\n",
    "        myfile.write(str(relation_tuples)+'\\n')"
   ]
  },
  {
   "cell_type": "code",
   "execution_count": 5,
   "metadata": {},
   "outputs": [],
   "source": [
    "m = {\n",
    "    \"Dainik Vijay News\" : '2339229@N21',\n",
    "    \"Crime Scene Photographers\" : '49606819@N00'    \n",
    "}\n",
    "\n",
    "for m_ in m:\n",
    "    photos = flickr.photos.search(group_id=m[m_], per_page='15')\n",
    "    photos = photos.decode('utf-8')\n",
    "    photos_dict = ast.literal_eval(photos)\n",
    "    photos = photos_dict['photos']\n",
    "    for photo in photos['photo']:\n",
    "        title = photo['title']\n",
    "        pic = 'https://farm'+str(photo['farm'])+'.staticflickr.com/'+photo['server']+'/'+photo['id']+'_'+photo['secret']+'.jpg'\n",
    "        try:\n",
    "            get_relation_tuples(sent_tokenize(title), pic)\n",
    "        except:\n",
    "            i = 1"
   ]
  },
  {
   "cell_type": "code",
   "execution_count": null,
   "metadata": {},
   "outputs": [],
   "source": [
    "# https://farm1.staticflickr.com/4543/38537177461_ae0656d951_m.jpg"
   ]
  }
 ],
 "metadata": {
  "kernelspec": {
   "display_name": "Python 3",
   "language": "python",
   "name": "python3"
  },
  "language_info": {
   "codemirror_mode": {
    "name": "ipython",
    "version": 3
   },
   "file_extension": ".py",
   "mimetype": "text/x-python",
   "name": "python",
   "nbconvert_exporter": "python",
   "pygments_lexer": "ipython3",
   "version": "3.5.2"
  }
 },
 "nbformat": 4,
 "nbformat_minor": 2
}
